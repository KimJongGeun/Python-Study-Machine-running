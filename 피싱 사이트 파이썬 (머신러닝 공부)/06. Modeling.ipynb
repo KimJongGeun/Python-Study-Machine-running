{
 "cells": [
  {
   "cell_type": "markdown",
   "metadata": {},
   "source": [
    "# Phishing Websites Detection"
   ]
  },
  {
   "cell_type": "markdown",
   "metadata": {},
   "source": [
    "피싱 사이트를 탐지하기 위해 4가지 알고리즘을 사용할 것이다.\n",
    "- Logistic Regression\n",
    "- Decision Tree\n",
    "- RandomForest\n",
    "- Gradient Descent"
   ]
  },
  {
   "cell_type": "markdown",
   "metadata": {},
   "source": [
    "#### [1] Import Library\n",
    "\n",
    "우선 필요한 라이브러리를 import 한다.\n",
    "- numpy  : 데이터를 로드하기 위해 사용\n",
    "- sklean : 머신러닝 알고리즘 및 평가를 위해 사용\n",
    "- pickle : 모델을 저장하기 위해 사용"
   ]
  },
  {
   "cell_type": "code",
   "execution_count": 44,
   "metadata": {},
   "outputs": [],
   "source": [
    "import numpy as np\n",
    "from sklearn.linear_model import LogisticRegression\n",
    "from sklearn.tree import DecisionTreeClassifier\n",
    "from sklearn.ensemble import RandomForestClassifier\n",
    "from sklearn.ensemble import GradientBoostingClassifier\n",
    "from sklearn.ensemble import AdaBoostClassifier\n",
    "from sklearn.metrics import accuracy_score\n",
    "from sklearn.model_selection import train_test_split\n",
    "import pickle"
   ]
  },
  {
   "cell_type": "markdown",
   "metadata": {},
   "source": [
    "#### [2] Data Load\n",
    "\n",
    "pwf_dataset 파일을 확인해보면 총 11055개의 Data와 31개의 속성으로 되어 있는 것을 확인할 수 있다.</br>\n",
    "30개의 속성은 Feature로 사용되고 1개의 속성은 피싱 사이트 여부를 알려준다.\n",
    "\n",
    "input의 경우 학습시킬 데이터이므로 마지막 속성을 제외한 11055 X 30 배열로 이루어져있고,</br>\n",
    "ouput은 결과를 나타내므로 마지막 속성인 피싱 사이트 여부를 저장하여 11055 X 1 배열로 이루어져 있다."
   ]
  },
  {
   "cell_type": "code",
   "execution_count": 45,
   "metadata": {},
   "outputs": [
    {
     "name": "stdout",
     "output_type": "stream",
     "text": [
      "Data shape = (11055, 31)\n",
      "input shape =  (11055, 30)\n",
      "output shape = (11055,)\n"
     ]
    }
   ],
   "source": [
    "# 총 11055개의 Data\n",
    "training_data = np.genfromtxt('./pwf_dataset.csv', delimiter=',', dtype=np.int32)\n",
    "\n",
    "print(\"Data shape =\", np.shape(training_data))\n",
    "\n",
    "inputs = training_data[:,:-1]\n",
    "outputs = training_data[:,-1]\n",
    "\n",
    "print(\"input shape = \", np.shape(inputs))\n",
    "print(\"output shape =\", np.shape(outputs))"
   ]
  },
  {
   "cell_type": "markdown",
   "metadata": {},
   "source": [
    "#### [3] Data Divide(Train, Test)\n",
    "\n",
    "전체 데이터에서 train 데이터와 test 데이터를 7:3 비율로 분할하였다.</br>\n",
    "train:test = 7:3</br>\n",
    "train, test 데이터의 비율에 따라 정확도가 조금씩 달라질 수 있다."
   ]
  },
  {
   "cell_type": "code",
   "execution_count": 76,
   "metadata": {},
   "outputs": [
    {
     "name": "stdout",
     "output_type": "stream",
     "text": [
      "input(train) = (7738, 30)\n",
      "output(train)= (7738,)\n",
      "input(test) = (3317, 30)\n",
      "output(test) = (3317,)\n"
     ]
    }
   ],
   "source": [
    "train_input, test_input, train_output, test_output = train_test_split(inputs, outputs, test_size=0.3, stratify=outputs, random_state=13)\n",
    "\n",
    "print(\"input(train) =\", np.shape(train_input))\n",
    "print(\"output(train)=\", np.shape(train_output))\n",
    "print(\"input(test) =\", np.shape(test_input))\n",
    "print(\"output(test) =\", np.shape(test_output))"
   ]
  },
  {
   "cell_type": "markdown",
   "metadata": {},
   "source": [
    "#### [4] Create Model\n",
    "원하는 알고리즘을 선택하여 동작\n",
    "- Logistic Regression\n",
    "- Decision Tree\n",
    "- Random Forest\n",
    "- Gradient Boosting"
   ]
  },
  {
   "cell_type": "code",
   "execution_count": 160,
   "metadata": {},
   "outputs": [],
   "source": [
    "# Logistic Regression\n",
    "classifier = LogisticRegression()"
   ]
  },
  {
   "cell_type": "code",
   "execution_count": 149,
   "metadata": {},
   "outputs": [],
   "source": [
    "# Decision Tree\n",
    "classifier = DecisionTreeClassifier()"
   ]
  },
  {
   "cell_type": "code",
   "execution_count": 153,
   "metadata": {},
   "outputs": [],
   "source": [
    "# Random Forest\n",
    "classifier = RandomForestClassifier()"
   ]
  },
  {
   "cell_type": "code",
   "execution_count": 141,
   "metadata": {},
   "outputs": [],
   "source": [
    "# Gradient Boosting\n",
    "classifier = GradientBoostingClassifier()"
   ]
  },
  {
   "cell_type": "markdown",
   "metadata": {},
   "source": [
    "#### [5] Train Model\n",
    "\n",
    "선택된 알고리즘을 학습"
   ]
  },
  {
   "cell_type": "code",
   "execution_count": 161,
   "metadata": {},
   "outputs": [
    {
     "data": {
      "text/plain": [
       "LogisticRegression()"
      ]
     },
     "execution_count": 161,
     "metadata": {},
     "output_type": "execute_result"
    }
   ],
   "source": [
    "classifier.fit(train_input, train_output)"
   ]
  },
  {
   "cell_type": "markdown",
   "metadata": {},
   "source": [
    "#### [6] Predict Model\n",
    "\n",
    "학습한 모델을 test 데이터를 넣어서 예측"
   ]
  },
  {
   "cell_type": "code",
   "execution_count": 162,
   "metadata": {},
   "outputs": [],
   "source": [
    "predictions = classifier.predict(test_input)"
   ]
  },
  {
   "cell_type": "markdown",
   "metadata": {},
   "source": [
    "#### [7] Evaluation of model\n",
    "\n",
    "예측한 결과를 output과 비교하여 정확도 측정\n",
    "\n",
    "Decision Tree가 Logistic Regression 보다 조금 더 높은 정확도를 보여주는 것을 확인"
   ]
  },
  {
   "cell_type": "code",
   "execution_count": 163,
   "metadata": {},
   "outputs": [
    {
     "name": "stdout",
     "output_type": "stream",
     "text": [
      "The accuracy of your classifier on testing data is : 92.97558034368404\n"
     ]
    }
   ],
   "source": [
    "accuracy = 100.0 * accuracy_score(test_output, predictions)\n",
    "\n",
    "print(\"The accuracy of your classifier on testing data is : \" + str(accuracy))"
   ]
  },
  {
   "cell_type": "markdown",
   "metadata": {},
   "source": [
    "#### [8] 모델 저장\n",
    "\n",
    "원하는 정확도가 나왔다면 모델을 저장"
   ]
  },
  {
   "cell_type": "code",
   "execution_count": null,
   "metadata": {},
   "outputs": [],
   "source": []
  },
  {
   "cell_type": "markdown",
   "metadata": {},
   "source": [
    "#### [9] 모델 불러오기\n",
    "\n",
    "다시 모델을 사용하기 위해서 불러옴"
   ]
  },
  {
   "cell_type": "code",
   "execution_count": null,
   "metadata": {},
   "outputs": [],
   "source": []
  },
  {
   "cell_type": "markdown",
   "metadata": {},
   "source": [
    "#### [10] 여러개의 모델 사용\n",
    "\n",
    "여러개의 모델을 사용하는 법"
   ]
  },
  {
   "cell_type": "code",
   "execution_count": null,
   "metadata": {},
   "outputs": [],
   "source": [
    "# RandomForest & GradientBoosting & AdaBoost\n"
   ]
  },
  {
   "cell_type": "code",
   "execution_count": null,
   "metadata": {},
   "outputs": [],
   "source": []
  }
 ],
 "metadata": {
  "kernelspec": {
   "display_name": "Python 3",
   "language": "python",
   "name": "python3"
  },
  "language_info": {
   "codemirror_mode": {
    "name": "ipython",
    "version": 3
   },
   "file_extension": ".py",
   "mimetype": "text/x-python",
   "name": "python",
   "nbconvert_exporter": "python",
   "pygments_lexer": "ipython3",
   "version": "3.8.3"
  }
 },
 "nbformat": 4,
 "nbformat_minor": 4
}

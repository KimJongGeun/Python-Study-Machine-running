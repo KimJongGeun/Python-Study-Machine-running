{
 "cells": [
  {
   "cell_type": "markdown",
   "metadata": {},
   "source": [
    "# D - Based By Domain"
   ]
  },
  {
   "cell_type": "markdown",
   "metadata": {},
   "source": [
    "## import Library"
   ]
  },
  {
   "cell_type": "code",
   "execution_count": null,
   "metadata": {},
   "outputs": [],
   "source": [
    "from urllib.parse import urlparse, urlencode\n",
    "from urllib.request import Request, urlopen\n",
    "from bs4 import BeautifulSoup\n",
    "from tld import get_tld\n",
    "from datetime import datetime as dt\n",
    "from dateutil.parser import parse\n",
    "import requests\n",
    "import ssl, socket\n",
    "import whois, sys\n",
    "import re\n",
    "from Patterns import *\n",
    "import json\n",
    "import pickle"
   ]
  },
  {
   "cell_type": "markdown",
   "metadata": {},
   "source": [
    "## D-01 Age of Domain\n"
   ]
  },
  {
   "cell_type": "markdown",
   "metadata": {},
   "source": [
    "<img src=\"./img/D-01.png\" width=\"500\">"
   ]
  },
  {
   "cell_type": "code",
   "execution_count": null,
   "metadata": {},
   "outputs": [],
   "source": [
    "def Age_of_Domain(url) :"
   ]
  },
  {
   "cell_type": "code",
   "execution_count": null,
   "metadata": {},
   "outputs": [],
   "source": [
    "url1 = \"https://naver.com\"\n",
    "\n",
    "print(\"url1 :\", Age_of_Domain(url1))"
   ]
  },
  {
   "cell_type": "markdown",
   "metadata": {},
   "source": [
    "## D-02 DNS Record\n"
   ]
  },
  {
   "cell_type": "markdown",
   "metadata": {},
   "source": [
    "<img src=\"./img/D-02.png\" width=\"500\">"
   ]
  },
  {
   "cell_type": "code",
   "execution_count": null,
   "metadata": {},
   "outputs": [],
   "source": [
    "def DNS_Record(url):\n",
    "    try :\n",
    "        domain_info = whois.whois(url)\n",
    "    except :\n",
    "        return -1\n",
    "    return 1"
   ]
  },
  {
   "cell_type": "code",
   "execution_count": null,
   "metadata": {},
   "outputs": [],
   "source": [
    "url1 = \"https://naver.com\"\n",
    "url2 = \"http://ThisDomainhasNotServer.com\"\n",
    "\n",
    "print(\"url1 :\", DNS_Record(url1))\n",
    "print(\"url2 :\", DNS_Record(url2))"
   ]
  },
  {
   "cell_type": "markdown",
   "metadata": {},
   "source": [
    "## D-03 Website Traffic\n"
   ]
  },
  {
   "cell_type": "markdown",
   "metadata": {},
   "source": [
    "<img src=\"./img/D-03.png\" width=\"500\">"
   ]
  },
  {
   "cell_type": "code",
   "execution_count": null,
   "metadata": {},
   "outputs": [],
   "source": [
    "def Web_Traffic(url) :\n",
    "    resp = urlopen(\"http://data.alexa.com/data?cli=10&dat=s&url=\" + url, timeout=10)\n",
    "    \n",
    "    try :\n",
    "        ranking = int(BeautifulSoup(resp.read(), \"xml\").find(\"REACH\")[\"RANK\"])\n",
    "    except TypeError :\n",
    "        return -1\n",
    "    \n",
    "    if ranking <= 100000 :\n",
    "        return 1\n",
    "    elif ranking > 100000 :\n",
    "        return 0\n",
    "    else :\n",
    "        return -1"
   ]
  },
  {
   "cell_type": "code",
   "execution_count": null,
   "metadata": {},
   "outputs": [],
   "source": [
    "url1 = \"https://naver.com\"\n",
    "url2 = \"http://royai-verlfy-lnfo.com/\"\n",
    "\n",
    "print(\"url1 :\", Web_Traffic(url1))\n",
    "print(\"url2 :\", Web_Traffic(url2))"
   ]
  },
  {
   "cell_type": "markdown",
   "metadata": {},
   "source": [
    "## D-04 PageRank\n"
   ]
  },
  {
   "cell_type": "markdown",
   "metadata": {},
   "source": [
    "<img src=\"./img/D-04.png\" width=\"500\">"
   ]
  },
  {
   "cell_type": "code",
   "execution_count": null,
   "metadata": {},
   "outputs": [],
   "source": [
    "# 온라인용\n",
    "def PageRank(url) :\n",
    "    post_data = urlencode({'name':url}).encode('UTF-8')\n",
    "    page = Request(\"https://checkpagerank.net/check-page-rank.php\", post_data)\n",
    "    resp = urlopen(page).read().decode('UTF-8')\n",
    "    \n",
    "    html = BeautifulSoup(resp, 'html.parser')\n",
    "    \n",
    "    rank = html.select('body > div.container > div:nth-child(2) > div.col-md-8.sidepad > div.container.results > div:nth-child(5) > div > h2 > font:nth-child(2)')\n",
    "\n",
    "    PageRank = rank[0].text\n",
    "    PageRank = int(PageRank.replace(\"/10\",\"\"))\n",
    "        \n",
    "    if PageRank/10 < 0.2 :\n",
    "        return -1\n",
    "    else :\n",
    "        return 1"
   ]
  },
  {
   "cell_type": "code",
   "execution_count": null,
   "metadata": {},
   "outputs": [],
   "source": [
    "url1 = \"https://naver.com\"\n",
    "url2 = \"http://royai-verlfy-lnfo.com/\"\n",
    "\n",
    "print(\"url1 :\", PageRank(url1))\n",
    "print(\"url2 :\", PageRank(url2))"
   ]
  },
  {
   "cell_type": "markdown",
   "metadata": {},
   "source": [
    "## D-05 Google Index\n"
   ]
  },
  {
   "cell_type": "markdown",
   "metadata": {},
   "source": [
    "<img src=\"./img/D-05.png\" width=\"500\">"
   ]
  },
  {
   "cell_type": "markdown",
   "metadata": {},
   "source": [
    "## D-06 Number of Links Pointing to Page\n"
   ]
  },
  {
   "cell_type": "markdown",
   "metadata": {},
   "source": [
    "<img src=\"./img/D-06.png\" width=\"500\">"
   ]
  },
  {
   "cell_type": "code",
   "execution_count": null,
   "metadata": {},
   "outputs": [],
   "source": [
    "# 오프라인용\n",
    "def External_Load_Script(url):"
   ]
  },
  {
   "cell_type": "code",
   "execution_count": null,
   "metadata": {},
   "outputs": [],
   "source": [
    "url1 = \"https://naver.com\"\n",
    "\n",
    "print(\"url1 :\", External_Load_Script(url1))"
   ]
  },
  {
   "cell_type": "markdown",
   "metadata": {},
   "source": [
    "## D-07 Statistical-Reports Based Feature"
   ]
  },
  {
   "cell_type": "markdown",
   "metadata": {},
   "source": [
    "<img src=\"./img/D-07.png\" width=\"500\">"
   ]
  }
 ],
 "metadata": {
  "kernelspec": {
   "display_name": "Python 3",
   "language": "python",
   "name": "python3"
  },
  "language_info": {
   "codemirror_mode": {
    "name": "ipython",
    "version": 3
   },
   "file_extension": ".py",
   "mimetype": "text/x-python",
   "name": "python",
   "nbconvert_exporter": "python",
   "pygments_lexer": "ipython3",
   "version": "3.8.3"
  }
 },
 "nbformat": 4,
 "nbformat_minor": 4
}

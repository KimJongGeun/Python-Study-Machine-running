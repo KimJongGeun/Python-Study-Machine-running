{
 "cells": [
  {
   "cell_type": "markdown",
   "metadata": {},
   "source": [
    "# A - Based By Address Bar"
   ]
  },
  {
   "cell_type": "markdown",
   "metadata": {},
   "source": [
    "## import Library"
   ]
  },
  {
   "cell_type": "code",
   "execution_count": null,
   "metadata": {},
   "outputs": [],
   "source": [
    "from urllib.parse import urlparse, urlencode\n",
    "from urllib.request import Request, urlopen\n",
    "from bs4 import BeautifulSoup\n",
    "from tld import get_tld\n",
    "from datetime import datetime as dt\n",
    "from dateutil.parser import parse\n",
    "import requests\n",
    "import ssl, socket\n",
    "import whois, sys\n",
    "import re\n",
    "from Patterns import *\n",
    "import json\n",
    "import pickle"
   ]
  },
  {
   "cell_type": "markdown",
   "metadata": {},
   "source": [
    "## A-01 Using the IP Address"
   ]
  },
  {
   "cell_type": "markdown",
   "metadata": {},
   "source": [
    "<img src=\"./img/A-01.png\" width=\"500\">"
   ]
  },
  {
   "cell_type": "code",
   "execution_count": 8,
   "metadata": {},
   "outputs": [],
   "source": [
    "import re"
   ]
  },
  {
   "cell_type": "code",
   "execution_count": 23,
   "metadata": {},
   "outputs": [],
   "source": [
    "def Ip_Address(ip):\n",
    "    ip = re.findall(r'[0-9]+(\\.[0-9]+){3}', ip)\n",
    "    if ip:\n",
    "        return -1\n",
    "    else:\n",
    "        return 1"
   ]
  },
  {
   "cell_type": "markdown",
   "metadata": {},
   "source": [
    "- 정상 도메인(1)\n",
    "    - url1 = \"https://google.com/\"\n",
    "- 피싱 도메인(-1)\n",
    "    - url2 = \"http://92.27.75.224/VerifyDetails.php?W23AZClfQmh7q5WYSo07boZ0F4k6K8jGbnhaZCqQZHXpNUnFinNuMNurROyCXSi8fAjfcK6br3AfYYUgmIK9vfAm39Z11i9hStx4dDgFHRUFQPVcyGl3VWqZ6p07HapzDW&securessl=true\"\n",
    "- 피싱 도메인 but 규칙 적용 X(1)\n",
    "    - url3 = \"https://paypal.com-sys.xyz/\""
   ]
  },
  {
   "cell_type": "code",
   "execution_count": 24,
   "metadata": {},
   "outputs": [
    {
     "name": "stdout",
     "output_type": "stream",
     "text": [
      "url1 : 1\n",
      "url2 : -1\n",
      "url3 : 1\n"
     ]
    }
   ],
   "source": [
    "url1 = \"https://google.com/\"\n",
    "url2 = \"http://92.27.75.224/VerifyDetails.php?W23AZClfQmh7q5WYSo07boZ0F4k6K8jGbnhaZCqQZHXpNUnFinNuMNurROyCXSi8fAjfcK6br3AfYYUgmIK9vfAm39Z11i9hStx4dDgFHRUFQPVcyGl3VWqZ6p07HapzDW&securessl=true\"\n",
    "url3 = \"https://paypal.com-sys.xyz/\"\n",
    "\n",
    "print(\"url1 :\", Ip_Address(url1))\n",
    "print(\"url2 :\", Ip_Address(url2))\n",
    "print(\"url3 :\", Ip_Address(url3))"
   ]
  },
  {
   "cell_type": "markdown",
   "metadata": {},
   "source": [
    "## A-02 Long URL to Hide the Suspicious Part"
   ]
  },
  {
   "cell_type": "markdown",
   "metadata": {},
   "source": [
    "<img src=\"./img/A-02.png\" width=\"500\">"
   ]
  },
  {
   "cell_type": "code",
   "execution_count": 26,
   "metadata": {},
   "outputs": [],
   "source": [
    "def URL_Length(url) :\n",
    "    if len(url) < 54:\n",
    "        return 1\n",
    "    elif 54<= len(url) <=75:\n",
    "        return 0\n",
    "    else:\n",
    "        return -1"
   ]
  },
  {
   "cell_type": "markdown",
   "metadata": {},
   "source": [
    "- 정상 도메인(1)\n",
    "    - url1 = \"https://google.com/\"\n",
    "- 피싱 도메인 but 의심(0)\n",
    "    - url2 = \"https://apartmanibeogradrakoc.com/Pymnt/bnc/National%20Bank%20Online.html\"\n",
    "- 피싱 도메인(-1)\n",
    "    - url3 = \"http://91.236.197.35.bc.googleusercontent.com/identificacao.php?linkcompleto=jogo-de-panelas-tramontina-antiaderente-de-aluminio-vermelho-8-pecas-turim-20298-719/p/144131100/ud/panl/&referal=JyqywFhufQsYzAsuioMHYpcDvf7LZ7LAkkZzD0esNST6czPYzA6ihVetwvdGCRx3ATXuAcfXDnkmWVYrSYAt8JovA65xE5WYDOK1jZFEbkjoxktlvg5kCqffNmfrhGMdnxPkuVsvfVuJZzICJchluB&id=7\""
   ]
  },
  {
   "cell_type": "code",
   "execution_count": 27,
   "metadata": {},
   "outputs": [
    {
     "name": "stdout",
     "output_type": "stream",
     "text": [
      "url1 : 1\n",
      "url2 : 0\n",
      "url3 : -1\n"
     ]
    }
   ],
   "source": [
    "url1 = \"https://google.com/\"\n",
    "url2 = \"https://apartmanibeogradrakoc.com/Pymnt/bnc/National%20Bank%20Online.html\"\n",
    "url3 = \"http://91.236.197.35.bc.googleusercontent.com/identificacao.php?linkcompleto=jogo-de-panelas-tramontina-antiaderente-de-aluminio-vermelho-8-pecas-turim-20298-719/p/144131100/ud/panl/&referal=JyqywFhufQsYzAsuioMHYpcDvf7LZ7LAkkZzD0esNST6czPYzA6ihVetwvdGCRx3ATXuAcfXDnkmWVYrSYAt8JovA65xE5WYDOK1jZFEbkjoxktlvg5kCqffNmfrhGMdnxPkuVsvfVuJZzICJchluB&id=7\"\n",
    "\n",
    "print(\"url1 :\", URL_Length(url1))\n",
    "print(\"url2 :\", URL_Length(url2))\n",
    "print(\"url3 :\", URL_Length(url3))"
   ]
  },
  {
   "cell_type": "markdown",
   "metadata": {},
   "source": [
    "## A-03 Using URL Shortening Services “TinyURL”"
   ]
  },
  {
   "cell_type": "markdown",
   "metadata": {},
   "source": [
    "<img src=\"./img/A-03.png\" width=\"500\">"
   ]
  },
  {
   "cell_type": "code",
   "execution_count": 31,
   "metadata": {},
   "outputs": [],
   "source": [
    "short_url = \"scrnch.me|kl.am|cli.gs|bc.vc|po.st|v.gd|bkite.com|shorl.com|shorturl.at|bit.ly|to.ly|adf.ly|x.co|1url.com|ad.vu|migre.me|su.pr|smallurl.co|cutt.us|filoops.info|shor7.com|yfrog.com|tinyurl.com|u.to|ow.ly|ff.im|rubyurl.com|r2me.com|post.ly|twitthis.com|buzurl.com|cur.lv|tr.im|bl.lnk|tiny.cc|lnkd.in|q.gs|is.gd|hurl.ws|om.ly|prettylinkpro.com|qr.net|qr.ae|snipurl.com|ity.im|t.co|db.tt|link.zip.net|doiop.com|url4.eu|poprl.com|tweez.me|short.ie|me2.do|bit.do|shorte.st|go2l.ink|yourls.org|wp.me|goo.gl|j.mp|twurl.nl|snipr.com|shortto.com|vzturl.com|u.bb\""
   ]
  },
  {
   "cell_type": "code",
   "execution_count": 34,
   "metadata": {},
   "outputs": [],
   "source": [
    "def Shortening_Service(hostname) :  \n",
    "    match = re.search(short_url, hostname)\n",
    "    if match:\n",
    "        return -1\n",
    "    else:\n",
    "        return 1\n",
    "    "
   ]
  },
  {
   "cell_type": "markdown",
   "metadata": {},
   "source": [
    "- 정상 도메인(1)\n",
    "    - url1 = \"https://google.com/\"\n",
    "- 피싱 도메인(-1)\n",
    "    - url2 = \"http://bit.ly/2Ze3X6O?FACEBOOK\""
   ]
  },
  {
   "cell_type": "code",
   "execution_count": 35,
   "metadata": {},
   "outputs": [
    {
     "name": "stdout",
     "output_type": "stream",
     "text": [
      "url1 : 1\n",
      "url2 : -1\n"
     ]
    }
   ],
   "source": [
    "url1 = \"https://google.com/\"\n",
    "url2 = \"http://bit.ly/2Ze3X6O?FACEBOOK\"\n",
    "\n",
    "print(\"url1 :\", Shortening_Service(url1))\n",
    "print(\"url2 :\", Shortening_Service(url2))"
   ]
  },
  {
   "cell_type": "markdown",
   "metadata": {},
   "source": [
    "## A-04 URL’s having “@” Symbol"
   ]
  },
  {
   "cell_type": "markdown",
   "metadata": {},
   "source": [
    "<img src=\"./img/A-04.png\" width=\"500\">"
   ]
  },
  {
   "cell_type": "code",
   "execution_count": 44,
   "metadata": {},
   "outputs": [],
   "source": [
    "def having_At_Symbol(url) :\n",
    "    #match = re.search('@',url)\n",
    "    if '@' in url:\n",
    "        return -1\n",
    "    elif '%40' in url:    # '@' 인코딩 값\n",
    "        return -1\n",
    "    else: \n",
    "        return 1"
   ]
  },
  {
   "cell_type": "markdown",
   "metadata": {},
   "source": [
    "- 정상 도메인(1)\n",
    "    - url1 = \"https://google.com/\"\n",
    "- 피싱 도메인(-1)\n",
    "    - url2 = \"http://nails1.cloudns.asia/Po/crypt/crypt/index.php?email=iask@staff.sina.com.cn\""
   ]
  },
  {
   "cell_type": "code",
   "execution_count": 45,
   "metadata": {},
   "outputs": [
    {
     "name": "stdout",
     "output_type": "stream",
     "text": [
      "url1 : 1\n",
      "url2 : -1\n"
     ]
    }
   ],
   "source": [
    "url1 = \"https://google.com/\"\n",
    "url2 = \"http://nails1.cloudns.asia/Po/crypt/crypt/index.php?email=iask@staff.sina.com.cn\"\n",
    "\n",
    "print(\"url1 :\", having_At_Symbol(url1))\n",
    "print(\"url2 :\", having_At_Symbol(url2))"
   ]
  },
  {
   "cell_type": "markdown",
   "metadata": {},
   "source": [
    "## A-05 Redirecting using “//”"
   ]
  },
  {
   "cell_type": "markdown",
   "metadata": {},
   "source": [
    "<img src=\"./img/A-05.png\" width=\"500\">"
   ]
  },
  {
   "cell_type": "code",
   "execution_count": 58,
   "metadata": {},
   "outputs": [],
   "source": [
    "def double_slash_redirecting(url) :\n",
    "    if '//' in url[7:]:\n",
    "        return -1\n",
    "    else:\n",
    "        return 1"
   ]
  },
  {
   "cell_type": "markdown",
   "metadata": {},
   "source": [
    "- 정상 도메인(1)\n",
    "    - url1 = \"https://google.com/\"\n",
    "- 피싱 도메인(-1)\n",
    "    - url2 = \"https://dereferer.me/?https%3a//cutt.ly/iws2uth\""
   ]
  },
  {
   "cell_type": "code",
   "execution_count": 59,
   "metadata": {},
   "outputs": [
    {
     "name": "stdout",
     "output_type": "stream",
     "text": [
      "url1 : 1\n",
      "url2 : -1\n"
     ]
    }
   ],
   "source": [
    "url1 = \"https://google.com/\"\n",
    "url2 = \"https://dereferer.me/?https%3a//cutt.ly/iws2uth\"\n",
    "\n",
    "print(\"url1 :\", double_slash_redirecting(url1))\n",
    "print(\"url2 :\", double_slash_redirecting(url2))"
   ]
  },
  {
   "cell_type": "markdown",
   "metadata": {},
   "source": [
    "## A-06 Adding Prefix or Suffix Separated by (-) to the Domain "
   ]
  },
  {
   "cell_type": "markdown",
   "metadata": {},
   "source": [
    "<img src=\"./img/A-06.png\" width=\"500\">"
   ]
  },
  {
   "cell_type": "code",
   "execution_count": 79,
   "metadata": {},
   "outputs": [],
   "source": [
    "def Prefix_Suffix(url):\n",
    "    tld = get_tld(url, as_object=True)\n",
    "    \n",
    "    if '-' in tld.domain:\n",
    "        return -1\n",
    "    elif '-' in tld.subdomain:\n",
    "        return -1\n",
    "    else :\n",
    "        1\n"
   ]
  },
  {
   "cell_type": "markdown",
   "metadata": {},
   "source": [
    "- 정상 도메인(1)\n",
    "    - url1 = \"http://login.naver.com\"\n",
    "- 피싱 도메인(-1)\n",
    "    - url2 = \"http://login-naver.com\""
   ]
  },
  {
   "cell_type": "code",
   "execution_count": 80,
   "metadata": {},
   "outputs": [
    {
     "name": "stdout",
     "output_type": "stream",
     "text": [
      "url1 : None\n",
      "url2 : -1\n"
     ]
    }
   ],
   "source": [
    "url1 = \"http://login.naver.com\"\n",
    "url2 = \"http://login-naver.com\"\n",
    "\n",
    "print(\"url1 :\", Prefix_Suffix(url1))\n",
    "print(\"url2 :\", Prefix_Suffix(url2))"
   ]
  },
  {
   "cell_type": "code",
   "execution_count": 69,
   "metadata": {
    "jupyter": {
     "source_hidden": true
    }
   },
   "outputs": [
    {
     "name": "stdout",
     "output_type": "stream",
     "text": [
      "Requirement already satisfied: tld in c:\\users\\15\\anaconda3\\lib\\site-packages (0.12.2)\n",
      "Note: you may need to restart the kernel to use updated packages.\n"
     ]
    }
   ],
   "source": [
    "pip install tld"
   ]
  },
  {
   "cell_type": "code",
   "execution_count": 70,
   "metadata": {},
   "outputs": [],
   "source": [
    "from tld import get_tld"
   ]
  },
  {
   "cell_type": "code",
   "execution_count": 71,
   "metadata": {},
   "outputs": [],
   "source": [
    "tld = get_tld('http://m.naver.com', as_object=True)"
   ]
  },
  {
   "cell_type": "code",
   "execution_count": 72,
   "metadata": {},
   "outputs": [
    {
     "name": "stdout",
     "output_type": "stream",
     "text": [
      "tld :  com\n",
      "tld.domain :  naver\n",
      "tld.subdomain :  m\n"
     ]
    }
   ],
   "source": [
    "print(\"tld : \", tld)\n",
    "print('tld.domain : ', tld.domain)\n",
    "print('tld.subdomain : ', tld.subdomain)"
   ]
  },
  {
   "cell_type": "markdown",
   "metadata": {},
   "source": [
    "## A-07 Sub Domain and Multi Sub Domains"
   ]
  },
  {
   "cell_type": "markdown",
   "metadata": {},
   "source": [
    "<img src=\"./img/A-07.png\" width=\"500\">"
   ]
  },
  {
   "cell_type": "code",
   "execution_count": 87,
   "metadata": {},
   "outputs": [],
   "source": [
    "def having_Sub_Domain(url) :\n",
    "    \n",
    "    tld = get_tld(url, as_object=True)\n",
    "\n",
    "    dot = 0\n",
    "    dot += str(tld).count('.')\n",
    "    \n",
    "    if(tld.subdomain):\n",
    "        dot += 1\n",
    "        dot += tld.subdomain.count('.')\n",
    "    if dot <=1:\n",
    "        return 1\n",
    "    elif dot == 2:\n",
    "        return 0\n",
    "    else :\n",
    "        return -1    "
   ]
  },
  {
   "cell_type": "markdown",
   "metadata": {},
   "source": [
    "- 정상 도메인(1)\n",
    "    - url1 = \"https://google.com/\"\n",
    "- 피싱 도메인 But 의심(0)\n",
    "    - url2 = \"https://services.runescape.com-m.cz/m=weblogin/loginf\"\n",
    "- 피싱 도메인(-1)\n",
    "    - url3 = \"https://index.cgi.security.accountz-update.services/?SHUTD0WN_P4G3\""
   ]
  },
  {
   "cell_type": "code",
   "execution_count": 88,
   "metadata": {},
   "outputs": [
    {
     "name": "stdout",
     "output_type": "stream",
     "text": [
      "url1 : 1\n",
      "url2 : 0\n",
      "url3 : -1\n"
     ]
    }
   ],
   "source": [
    "url1 = \"http://google.com\"\n",
    "url2 = \"https://services.runescape.com-m.cz/m=weblogin/loginf\"\n",
    "url3 = \"https://index.cgi.security.accountz-update.services/?SHUTD0WN_P4G3\"\n",
    "\n",
    "print(\"url1 :\", having_Sub_Domain(url1))\n",
    "print(\"url2 :\", having_Sub_Domain(url2))\n",
    "print(\"url3 :\", having_Sub_Domain(url3))"
   ]
  },
  {
   "cell_type": "markdown",
   "metadata": {},
   "source": [
    "## A-08 HTTPS (Hyper Text Transfer Protocol with Secure Sockets Layer) "
   ]
  },
  {
   "cell_type": "markdown",
   "metadata": {},
   "source": [
    "<img src=\"./img/A-08.png\" width=\"500\">"
   ]
  },
  {
   "cell_type": "code",
   "execution_count": 96,
   "metadata": {},
   "outputs": [],
   "source": [
    "import ssl, socket\n",
    "from datetime import datetime as dt\n",
    "from dateutil.parser import parse"
   ]
  },
  {
   "cell_type": "code",
   "execution_count": 115,
   "metadata": {},
   "outputs": [],
   "source": [
    "def https_connect(url) :\n",
    "    if 'http://' in url:\n",
    "        url = url.replace('http://','')\n",
    "    elif 'http://' in url:\n",
    "        url = url.replace('http://','')\n",
    "    ctx = ssl.create_default_context()\n",
    "    s = ctx.wrap_socket(socket.socket(), server_hostname=url)\n",
    "    s.connect((url, 443))\n",
    "    return s"
   ]
  },
  {
   "cell_type": "code",
   "execution_count": 122,
   "metadata": {},
   "outputs": [],
   "source": [
    "def SSLfinal_State(url) :    \n",
    "    try:\n",
    "        s = https_connect(url)\n",
    "    except TimeoutError :\n",
    "        return -1\n",
    "    \n",
    "    cert = s.getpeercert()\n",
    "    \n",
    "    print(cert)\n",
    "    \n",
    "    notBefore = cert['notBefore']\n",
    "    init_date = parse(notBefore)\n",
    "    now = dt.now()\n",
    "    total_days = (now.date() - init_date.date()).days\n",
    "    \n",
    "    if total_days >= 365:\n",
    "        return 1\n",
    "    else :\n",
    "        return 0"
   ]
  },
  {
   "cell_type": "code",
   "execution_count": 123,
   "metadata": {},
   "outputs": [
    {
     "ename": "gaierror",
     "evalue": "[Errno 11001] getaddrinfo failed",
     "output_type": "error",
     "traceback": [
      "\u001b[1;31m---------------------------------------------------------------------------\u001b[0m",
      "\u001b[1;31mgaierror\u001b[0m                                  Traceback (most recent call last)",
      "\u001b[1;32m<ipython-input-123-5073c46aad33>\u001b[0m in \u001b[0;36m<module>\u001b[1;34m\u001b[0m\n\u001b[0;32m      1\u001b[0m \u001b[0murl1\u001b[0m \u001b[1;33m=\u001b[0m \u001b[1;34m\"https://naver.com\"\u001b[0m\u001b[1;33m\u001b[0m\u001b[1;33m\u001b[0m\u001b[0m\n\u001b[0;32m      2\u001b[0m \u001b[1;33m\u001b[0m\u001b[0m\n\u001b[1;32m----> 3\u001b[1;33m \u001b[0mprint\u001b[0m\u001b[1;33m(\u001b[0m\u001b[1;34m\"url1 :\"\u001b[0m\u001b[1;33m,\u001b[0m \u001b[0mSSLfinal_State\u001b[0m\u001b[1;33m(\u001b[0m\u001b[0murl1\u001b[0m\u001b[1;33m)\u001b[0m\u001b[1;33m)\u001b[0m\u001b[1;33m\u001b[0m\u001b[1;33m\u001b[0m\u001b[0m\n\u001b[0m",
      "\u001b[1;32m<ipython-input-122-4ed72a6f43a2>\u001b[0m in \u001b[0;36mSSLfinal_State\u001b[1;34m(url)\u001b[0m\n\u001b[0;32m      1\u001b[0m \u001b[1;32mdef\u001b[0m \u001b[0mSSLfinal_State\u001b[0m\u001b[1;33m(\u001b[0m\u001b[0murl\u001b[0m\u001b[1;33m)\u001b[0m \u001b[1;33m:\u001b[0m\u001b[1;33m\u001b[0m\u001b[1;33m\u001b[0m\u001b[0m\n\u001b[0;32m      2\u001b[0m     \u001b[1;32mtry\u001b[0m\u001b[1;33m:\u001b[0m\u001b[1;33m\u001b[0m\u001b[1;33m\u001b[0m\u001b[0m\n\u001b[1;32m----> 3\u001b[1;33m         \u001b[0ms\u001b[0m \u001b[1;33m=\u001b[0m \u001b[0mhttps_connect\u001b[0m\u001b[1;33m(\u001b[0m\u001b[0murl\u001b[0m\u001b[1;33m)\u001b[0m\u001b[1;33m\u001b[0m\u001b[1;33m\u001b[0m\u001b[0m\n\u001b[0m\u001b[0;32m      4\u001b[0m     \u001b[1;32mexcept\u001b[0m \u001b[0mTimeoutError\u001b[0m \u001b[1;33m:\u001b[0m\u001b[1;33m\u001b[0m\u001b[1;33m\u001b[0m\u001b[0m\n\u001b[0;32m      5\u001b[0m         \u001b[1;32mreturn\u001b[0m \u001b[1;33m-\u001b[0m\u001b[1;36m1\u001b[0m\u001b[1;33m\u001b[0m\u001b[1;33m\u001b[0m\u001b[0m\n",
      "\u001b[1;32m<ipython-input-115-e9cab3e6de1d>\u001b[0m in \u001b[0;36mhttps_connect\u001b[1;34m(url)\u001b[0m\n\u001b[0;32m      6\u001b[0m     \u001b[0mctx\u001b[0m \u001b[1;33m=\u001b[0m \u001b[0mssl\u001b[0m\u001b[1;33m.\u001b[0m\u001b[0mcreate_default_context\u001b[0m\u001b[1;33m(\u001b[0m\u001b[1;33m)\u001b[0m\u001b[1;33m\u001b[0m\u001b[1;33m\u001b[0m\u001b[0m\n\u001b[0;32m      7\u001b[0m     \u001b[0ms\u001b[0m \u001b[1;33m=\u001b[0m \u001b[0mctx\u001b[0m\u001b[1;33m.\u001b[0m\u001b[0mwrap_socket\u001b[0m\u001b[1;33m(\u001b[0m\u001b[0msocket\u001b[0m\u001b[1;33m.\u001b[0m\u001b[0msocket\u001b[0m\u001b[1;33m(\u001b[0m\u001b[1;33m)\u001b[0m\u001b[1;33m,\u001b[0m \u001b[0mserver_hostname\u001b[0m\u001b[1;33m=\u001b[0m\u001b[0murl\u001b[0m\u001b[1;33m)\u001b[0m\u001b[1;33m\u001b[0m\u001b[1;33m\u001b[0m\u001b[0m\n\u001b[1;32m----> 8\u001b[1;33m     \u001b[0ms\u001b[0m\u001b[1;33m.\u001b[0m\u001b[0mconnect\u001b[0m\u001b[1;33m(\u001b[0m\u001b[1;33m(\u001b[0m\u001b[0murl\u001b[0m\u001b[1;33m,\u001b[0m \u001b[1;36m443\u001b[0m\u001b[1;33m)\u001b[0m\u001b[1;33m)\u001b[0m\u001b[1;33m\u001b[0m\u001b[1;33m\u001b[0m\u001b[0m\n\u001b[0m\u001b[0;32m      9\u001b[0m     \u001b[1;32mreturn\u001b[0m \u001b[0ms\u001b[0m\u001b[1;33m\u001b[0m\u001b[1;33m\u001b[0m\u001b[0m\n",
      "\u001b[1;32m~\\anaconda3\\lib\\ssl.py\u001b[0m in \u001b[0;36mconnect\u001b[1;34m(self, addr)\u001b[0m\n\u001b[0;32m   1340\u001b[0m         \"\"\"Connects to remote ADDR, and then wraps the connection in\n\u001b[0;32m   1341\u001b[0m         an SSL channel.\"\"\"\n\u001b[1;32m-> 1342\u001b[1;33m         \u001b[0mself\u001b[0m\u001b[1;33m.\u001b[0m\u001b[0m_real_connect\u001b[0m\u001b[1;33m(\u001b[0m\u001b[0maddr\u001b[0m\u001b[1;33m,\u001b[0m \u001b[1;32mFalse\u001b[0m\u001b[1;33m)\u001b[0m\u001b[1;33m\u001b[0m\u001b[1;33m\u001b[0m\u001b[0m\n\u001b[0m\u001b[0;32m   1343\u001b[0m \u001b[1;33m\u001b[0m\u001b[0m\n\u001b[0;32m   1344\u001b[0m     \u001b[1;32mdef\u001b[0m \u001b[0mconnect_ex\u001b[0m\u001b[1;33m(\u001b[0m\u001b[0mself\u001b[0m\u001b[1;33m,\u001b[0m \u001b[0maddr\u001b[0m\u001b[1;33m)\u001b[0m\u001b[1;33m:\u001b[0m\u001b[1;33m\u001b[0m\u001b[1;33m\u001b[0m\u001b[0m\n",
      "\u001b[1;32m~\\anaconda3\\lib\\ssl.py\u001b[0m in \u001b[0;36m_real_connect\u001b[1;34m(self, addr, connect_ex)\u001b[0m\n\u001b[0;32m   1327\u001b[0m             \u001b[1;32melse\u001b[0m\u001b[1;33m:\u001b[0m\u001b[1;33m\u001b[0m\u001b[1;33m\u001b[0m\u001b[0m\n\u001b[0;32m   1328\u001b[0m                 \u001b[0mrc\u001b[0m \u001b[1;33m=\u001b[0m \u001b[1;32mNone\u001b[0m\u001b[1;33m\u001b[0m\u001b[1;33m\u001b[0m\u001b[0m\n\u001b[1;32m-> 1329\u001b[1;33m                 \u001b[0msuper\u001b[0m\u001b[1;33m(\u001b[0m\u001b[1;33m)\u001b[0m\u001b[1;33m.\u001b[0m\u001b[0mconnect\u001b[0m\u001b[1;33m(\u001b[0m\u001b[0maddr\u001b[0m\u001b[1;33m)\u001b[0m\u001b[1;33m\u001b[0m\u001b[1;33m\u001b[0m\u001b[0m\n\u001b[0m\u001b[0;32m   1330\u001b[0m             \u001b[1;32mif\u001b[0m \u001b[1;32mnot\u001b[0m \u001b[0mrc\u001b[0m\u001b[1;33m:\u001b[0m\u001b[1;33m\u001b[0m\u001b[1;33m\u001b[0m\u001b[0m\n\u001b[0;32m   1331\u001b[0m                 \u001b[0mself\u001b[0m\u001b[1;33m.\u001b[0m\u001b[0m_connected\u001b[0m \u001b[1;33m=\u001b[0m \u001b[1;32mTrue\u001b[0m\u001b[1;33m\u001b[0m\u001b[1;33m\u001b[0m\u001b[0m\n",
      "\u001b[1;31mgaierror\u001b[0m: [Errno 11001] getaddrinfo failed"
     ]
    }
   ],
   "source": [
    "url1 = \"https://naver.com\"\n",
    "\n",
    "print(\"url1 :\", SSLfinal_State(url1))"
   ]
  },
  {
   "cell_type": "markdown",
   "metadata": {},
   "source": [
    "## A-09 Domain Registration Length"
   ]
  },
  {
   "cell_type": "markdown",
   "metadata": {},
   "source": [
    "<img src=\"./img/A-09.png\" width=\"500\">"
   ]
  },
  {
   "cell_type": "code",
   "execution_count": 129,
   "metadata": {},
   "outputs": [
    {
     "name": "stdout",
     "output_type": "stream",
     "text": [
      "Note: you may need to restart the kernel to use updated packages.\n"
     ]
    },
    {
     "name": "stderr",
     "output_type": "stream",
     "text": [
      "ERROR: Invalid requirement: '#도메인'\n"
     ]
    }
   ],
   "source": [
    "pip install python-whois  #도메인 정보를 가져오는 라이브러리"
   ]
  },
  {
   "cell_type": "code",
   "execution_count": 133,
   "metadata": {},
   "outputs": [],
   "source": [
    "import whois"
   ]
  },
  {
   "cell_type": "code",
   "execution_count": 139,
   "metadata": {},
   "outputs": [],
   "source": [
    "def Domain_registeration_length(url) :\n",
    "    domain = whois.whois(url)\n",
    "    \n",
    "    print(domain)"
   ]
  },
  {
   "cell_type": "code",
   "execution_count": 140,
   "metadata": {},
   "outputs": [
    {
     "name": "stdout",
     "output_type": "stream",
     "text": [
      "{\n",
      "  \"domain_name\": [\n",
      "    \"NAVER.COM\",\n",
      "    \"naver.com\"\n",
      "  ],\n",
      "  \"registrar\": \"Gabia, Inc.\",\n",
      "  \"whois_server\": \"whois.gabia.com\",\n",
      "  \"referral_url\": null,\n",
      "  \"updated_date\": [\n",
      "    \"2020-10-22 01:15:57\",\n",
      "    \"2020-10-08 00:00:00\"\n",
      "  ],\n",
      "  \"creation_date\": [\n",
      "    \"1997-09-12 04:00:00\",\n",
      "    \"1997-09-12 00:00:00\"\n",
      "  ],\n",
      "  \"expiration_date\": [\n",
      "    \"2023-09-11 04:00:00\",\n",
      "    \"2023-09-11 00:00:00\"\n",
      "  ],\n",
      "  \"name_servers\": [\n",
      "    \"E-NS.NAVER.COM\",\n",
      "    \"NS1.NAVER.COM\",\n",
      "    \"NS2.NAVER.COM\",\n",
      "    \"ns1.naver.com\",\n",
      "    \"ns2.naver.com\",\n",
      "    \"e-ns.naver.com\"\n",
      "  ],\n",
      "  \"status\": [\n",
      "    \"clientDeleteProhibited https://icann.org/epp#clientDeleteProhibited\",\n",
      "    \"clientTransferProhibited https://icann.org/epp#clientTransferProhibited\",\n",
      "    \"clientUpdateProhibited https://icann.org/epp#clientUpdateProhibited\",\n",
      "    \"ok https://icann.org/epp#ok\"\n",
      "  ],\n",
      "  \"emails\": [\n",
      "    \"white.4818@navercorp.com\",\n",
      "    \"dl_ssl@navercorp.com\",\n",
      "    \"abuse@gabia.com\"\n",
      "  ],\n",
      "  \"dnssec\": \"unsigned\",\n",
      "  \"name\": \"NAVER Corp.\",\n",
      "  \"org\": \"NAVER Corp.\",\n",
      "  \"address\": \"6 Buljung-ro, Bundang-gu, Seongnam-si, Gyeonggi-do, 463-867, Korea\",\n",
      "  \"city\": \"Gyeonggi\",\n",
      "  \"state\": null,\n",
      "  \"zipcode\": \"463463\",\n",
      "  \"country\": \"KR\"\n",
      "}\n",
      "url1 : None\n"
     ]
    }
   ],
   "source": [
    "url1 = \"https://naver.com\"\n",
    "\n",
    "print(\"url1 :\", Domain_registeration_length(url1))"
   ]
  },
  {
   "cell_type": "markdown",
   "metadata": {},
   "source": [
    "## A-10 Favicon"
   ]
  },
  {
   "cell_type": "markdown",
   "metadata": {},
   "source": [
    "<img src=\"./img/A-10.png\" width=\"500\">"
   ]
  },
  {
   "cell_type": "code",
   "execution_count": null,
   "metadata": {},
   "outputs": [],
   "source": [
    "def Favicon(url) :\n",
    "    "
   ]
  },
  {
   "cell_type": "code",
   "execution_count": null,
   "metadata": {},
   "outputs": [],
   "source": [
    "url1 = \"https://naver.com\"\n",
    "\n",
    "print(\"url1 :\", Favicon(url1))"
   ]
  },
  {
   "cell_type": "markdown",
   "metadata": {},
   "source": [
    "## A-11 Using Non-Standard Port"
   ]
  },
  {
   "cell_type": "markdown",
   "metadata": {},
   "source": [
    "<img src=\"./img/A-11.png\" width=\"500\">"
   ]
  },
  {
   "cell_type": "code",
   "execution_count": null,
   "metadata": {},
   "outputs": [],
   "source": [
    "def Port(url):"
   ]
  },
  {
   "cell_type": "code",
   "execution_count": null,
   "metadata": {},
   "outputs": [],
   "source": [
    "url1 = \"https://google.com\"\n",
    "\n",
    "print(\"url1 :\", Port(url1))"
   ]
  },
  {
   "cell_type": "markdown",
   "metadata": {},
   "source": [
    "## A-12 The Existence of “HTTPS” Token in the Domain Part of the URL"
   ]
  },
  {
   "cell_type": "markdown",
   "metadata": {},
   "source": [
    "<img src=\"./img/A-12.png\" width=\"500\">"
   ]
  },
  {
   "cell_type": "code",
   "execution_count": null,
   "metadata": {},
   "outputs": [],
   "source": [
    "def HTTPS_token(hostname):"
   ]
  },
  {
   "cell_type": "markdown",
   "metadata": {},
   "source": [
    "- 정상 도메인(1)\n",
    "    - url1 = \"https://google.com/\"\n",
    "- 피싱 도메인(-1)\n",
    "    - url2 = \"http://https-www-paypal-it-webapps-mpp-home.soft-hair.com/\""
   ]
  },
  {
   "cell_type": "code",
   "execution_count": null,
   "metadata": {},
   "outputs": [],
   "source": [
    "url1 = \"https://google.com/\"\n",
    "url2 = \"http://https-www-paypal-it-webapps-mpp-home.soft-hair.com/\"\n",
    "\n",
    "print(\"url1 :\", HTTPS_token(url1))\n",
    "print(\"url2 :\", HTTPS_token(url2))"
   ]
  }
 ],
 "metadata": {
  "kernelspec": {
   "display_name": "Python 3",
   "language": "python",
   "name": "python3"
  },
  "language_info": {
   "codemirror_mode": {
    "name": "ipython",
    "version": 3
   },
   "file_extension": ".py",
   "mimetype": "text/x-python",
   "name": "python",
   "nbconvert_exporter": "python",
   "pygments_lexer": "ipython3",
   "version": "3.8.3"
  }
 },
 "nbformat": 4,
 "nbformat_minor": 4
}
